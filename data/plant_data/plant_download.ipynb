{
 "cells": [
  {
   "cell_type": "markdown",
   "id": "7160db32",
   "metadata": {},
   "source": [
    "### download data"
   ]
  },
  {
   "cell_type": "code",
   "execution_count": null,
   "id": "bd5b4dc6",
   "metadata": {},
   "outputs": [],
   "source": [
    "%%bash\n",
    "mkdir download_data\n",
    "mkdir download_model\n",
    "mkdir datasets_download"
   ]
  },
  {
   "cell_type": "code",
   "execution_count": null,
   "id": "7d1b29b2",
   "metadata": {},
   "outputs": [],
   "source": [
    "%%bash\n",
    "# plants='ar'\n",
    "plants='ar bd mh sb si zm zs'\n",
    "\n",
    "cd download_data\n",
    "\n",
    "for plant in $plants\n",
    "do\n",
    "    wget \"http://plantdeepsea.ncpgr.cn/model_and_data/training_data/$plant.zip\"\n",
    "    unzip $plant.zip\n",
    "    rm -rf $plant.zip\n",
    "done"
   ]
  },
  {
   "cell_type": "code",
   "execution_count": null,
   "id": "0e7bb3c1",
   "metadata": {},
   "outputs": [],
   "source": [
    "%%bash\n",
    "# plants='ar'\n",
    "plants='ar bd mh sb si zm zs'\n",
    "\n",
    "\n",
    "cd download_model\n",
    "\n",
    "for plant in $plants\n",
    "do\n",
    "    plant_model=$plant'_model'\n",
    "    wget \"http://plantdeepsea.ncpgr.cn/model_and_data/models/$plant_model.zip\"\n",
    "    unzip $plant_model.zip\n",
    "    rm -rf $plant_model.zip\n",
    "done"
   ]
  },
  {
   "cell_type": "markdown",
   "id": "9b687a67",
   "metadata": {},
   "source": [
    "### datasets"
   ]
  },
  {
   "cell_type": "code",
   "execution_count": null,
   "id": "7a88d93a",
   "metadata": {},
   "outputs": [],
   "source": [
    "# plants=['ar']\n",
    "plants=['ar', 'bd', 'mh', 'sb', 'si', 'zm', 'zs']"
   ]
  },
  {
   "cell_type": "code",
   "execution_count": null,
   "id": "c5aadb61",
   "metadata": {},
   "outputs": [],
   "source": [
    "def simple_count(file_name):\n",
    "    lines = 0\n",
    "    for _ in open(file_name):\n",
    "        lines += 1\n",
    "    return lines"
   ]
  },
  {
   "cell_type": "code",
   "execution_count": null,
   "id": "f90e58ba",
   "metadata": {},
   "outputs": [],
   "source": [
    "from shutil import copyfile\n",
    "\n",
    "for plant in plants:\n",
    "    for tr in ['train', 'validate', 'test']:\n",
    "        data_path = './download_model/'+plant+'_model/'+tr+'_data.bed'\n",
    "        data_num = simple_count(data_path)\n",
    "        copyfile(data_path, './datasets_download/'+plant+'_L1000_'+tr+'_'+str(data_num)+'.bed')  "
   ]
  },
  {
   "cell_type": "code",
   "execution_count": null,
   "id": "251c4e56",
   "metadata": {},
   "outputs": [],
   "source": []
  }
 ],
 "metadata": {
  "kernelspec": {
   "display_name": "Python 3 (ipykernel)",
   "language": "python",
   "name": "python3"
  },
  "language_info": {
   "codemirror_mode": {
    "name": "ipython",
    "version": 3
   },
   "file_extension": ".py",
   "mimetype": "text/x-python",
   "name": "python",
   "nbconvert_exporter": "python",
   "pygments_lexer": "ipython3",
   "version": "3.8.10"
  }
 },
 "nbformat": 4,
 "nbformat_minor": 5
}
